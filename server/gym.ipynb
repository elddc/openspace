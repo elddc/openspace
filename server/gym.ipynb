{
  "cells": [
    {
      "cell_type": "code",
      "execution_count": 2,
      "metadata": {
        "colab": {
          "base_uri": "https://localhost:8080/"
        },
        "id": "x_afS93XvIs7",
        "outputId": "091063aa-f8b4-409a-9573-cf5856802b0b"
      },
      "outputs": [
        {
          "name": "stdout",
          "output_type": "stream",
          "text": [
            "Requirement already satisfied: requests in /Users/andrewdi/anaconda3/envs/openspace/lib/python3.11/site-packages (2.31.0)\n",
            "Requirement already satisfied: charset-normalizer<4,>=2 in /Users/andrewdi/anaconda3/envs/openspace/lib/python3.11/site-packages (from requests) (3.3.2)\n",
            "Requirement already satisfied: idna<4,>=2.5 in /Users/andrewdi/anaconda3/envs/openspace/lib/python3.11/site-packages (from requests) (3.4)\n",
            "Requirement already satisfied: urllib3<3,>=1.21.1 in /Users/andrewdi/anaconda3/envs/openspace/lib/python3.11/site-packages (from requests) (2.0.7)\n",
            "Requirement already satisfied: certifi>=2017.4.17 in /Users/andrewdi/anaconda3/envs/openspace/lib/python3.11/site-packages (from requests) (2023.7.22)\n"
          ]
        }
      ],
      "source": [
        "%pip install requests"
      ]
    },
    {
      "cell_type": "code",
      "execution_count": 7,
      "metadata": {
        "id": "dwLpHDR5vBmX"
      },
      "outputs": [],
      "source": [
        "import requests\n",
        "import json"
      ]
    },
    {
      "cell_type": "code",
      "execution_count": 12,
      "metadata": {
        "colab": {
          "base_uri": "https://localhost:8080/"
        },
        "id": "J0j-QmVMvKEg",
        "outputId": "5c3680f4-3abb-41be-e5f9-8809563484a2"
      },
      "outputs": [
        {
          "name": "stdout",
          "output_type": "stream",
          "text": [
            "ARC Entrance Level Fitness Area \n",
            "Ice Arena Ice Rink\n",
            "CRCE Lobby Area\n",
            "Ice Arena Ice Arena Lobby\n",
            "ARC Upper Level\n",
            "CRCE Main Gym \n",
            "ARC Lower Level\n",
            "Ice Arena Stick and Puck\n",
            "CRCE Indoor Pool\n",
            "ARC Strength and Conditioning  \n",
            "CRCE Hot Tub\n",
            "ARC Indoor Pool\n",
            "CRCE Raquetball Courts\n",
            "CRCE MP 1\n",
            "ARC Outdoor Pool\n",
            "ARC Sauna\n",
            "CRCE MP 2\n",
            "CRCE Squash Court\n",
            "ARC Combat Room\n",
            "CRCE MAC Gym\n",
            "ARC Gym 1 \n",
            "CRCE Upper Level \n",
            "ARC Gym 2 \n",
            "ARC Gym 3 \n",
            "ARC Rock Wall\n",
            "ARC Raquetball Courts\n",
            "ARC Squash Courts\n",
            "ARC MP Room 1\n",
            "ARC MP Room 2\n",
            "ARC MP Room 3\n",
            "ARC MP Room  4 \n",
            "ARC MP Room 5\n",
            "ARC MP Room 6 \n",
            "ARC MP Room 7\n",
            "Outdoor Center Play Fields ODC  North Turf Fields \n",
            "Outdoor Center Play Fields ODC South Turf Fields \n",
            "Outdoor Center Play Fields ODC North Basketball Courts \n",
            "Outdoor Center Play Fields ODC South Basketball Courts\n",
            "Outdoor Center Play Fields ODC Sand Volleyball Courts\n",
            "Outdoor Center Play Fields ODC Tennis Courts \n",
            "Complex Fields Complex Softball Fields \n",
            "Complex Fields Complex Grass Fields \n"
          ]
        }
      ],
      "source": [
        "url = 'https://goboardapi.azurewebsites.net/api/FacilityCount/GetCountsByAccount?AccountAPIKey=38902ca4-0d3b-409e-903e-615e5e530612'\n",
        "\n",
        "entry_list = requests.get(url).json()\n",
        "\n",
        "for entry in entry_list:\n",
        "    print(entry['FacilityName'], entry['LocationName'])"
      ]
    },
    {
      "cell_type": "code",
      "execution_count": null,
      "metadata": {
        "id": "JdCWTDY7vQan"
      },
      "outputs": [],
      "source": []
    }
  ],
  "metadata": {
    "colab": {
      "provenance": []
    },
    "kernelspec": {
      "display_name": "Python 3",
      "name": "python3"
    },
    "language_info": {
      "codemirror_mode": {
        "name": "ipython",
        "version": 3
      },
      "file_extension": ".py",
      "mimetype": "text/x-python",
      "name": "python",
      "nbconvert_exporter": "python",
      "pygments_lexer": "ipython3",
      "version": "3.11.5"
    }
  },
  "nbformat": 4,
  "nbformat_minor": 0
}
