{
 "cells": [
  {
   "cell_type": "code",
   "execution_count": 19,
   "metadata": {},
   "outputs": [
    {
     "name": "stdout",
     "output_type": "stream",
     "text": [
      "https://uiuc.libcal.com/spaces?lid=5903&gid=0&c=0\n"
     ]
    }
   ],
   "source": [
    "# config, used for both scraping methods\n",
    "base = \"https://uiuc.libcal.com/\"\n",
    "all = \"allspaces\" # base + all\n",
    "id  = { # base + \"spaces/?lid=\" + id of desired library\n",
    "    \"chemistry\": 5903,\n",
    "    \"funk\": 3604,\n",
    "    \"grainger\": 3606,\n",
    "    \"international\": 5766,\n",
    "    \"main\": 3608,\n",
    "    \"music\": 3153,\n",
    "    \"studio\": 16231\n",
    "}\n",
    "args = \"&gid=0&c=0\" # additional arguments\n",
    "\n",
    "# url to scrape\n",
    "url = base + \"spaces?lid=\" + str(id[\"chemistry\"]) + args\n",
    "print(url)\n"
   ]
  },
  {
   "cell_type": "markdown",
   "metadata": {},
   "source": [
    "### Using selenium\n",
    "Recommended"
   ]
  },
  {
   "cell_type": "code",
   "execution_count": 2,
   "metadata": {},
   "outputs": [],
   "source": [
    "# imports\n",
    "from selenium import webdriver\n",
    "from selenium.webdriver.common.by import By\n",
    "from webdriver_manager.chrome import ChromeDriverManager\n"
   ]
  },
  {
   "cell_type": "code",
   "execution_count": 11,
   "metadata": {},
   "outputs": [],
   "source": [
    "# open selenium instance, using headless to allow running on a server\n",
    "options = webdriver.ChromeOptions()\n",
    "# options.add_argument(\"--headless=new\")\n",
    "# driver = webdriver.Chrome(ChromeDriverManager().install(), options=options)\n",
    "\n",
    "# non-headless version, for debugging\n",
    "driver = webdriver.Chrome(ChromeDriverManager().install(), options=options)\n"
   ]
  },
  {
   "cell_type": "code",
   "execution_count": 20,
   "metadata": {},
   "outputs": [],
   "source": [
    "# navigate to url\n",
    "driver.get(url)\n"
   ]
  },
  {
   "cell_type": "code",
   "execution_count": 21,
   "metadata": {},
   "outputs": [
    {
     "data": {
      "text/plain": [
       "4"
      ]
     },
     "execution_count": 21,
     "metadata": {},
     "output_type": "execute_result"
    }
   ],
   "source": [
    "# extract data\n",
    "events = [ev.get_attribute(\"title\") for ev in driver.find_elements(By.CLASS_NAME, \"fc-event-today\")]\n",
    "len(events)\n"
   ]
  },
  {
   "cell_type": "code",
   "execution_count": 22,
   "metadata": {},
   "outputs": [
    {
     "name": "stdout",
     "output_type": "stream",
     "text": [
      "4:00pm Saturday, November 4, 2023 - Conference Room 124A - Available\n",
      "4:30pm Saturday, November 4, 2023 - Conference Room 124A - Available\n",
      "4:00pm Saturday, November 4, 2023 - Group Study Room 124C - Available\n",
      "4:30pm Saturday, November 4, 2023 - Group Study Room 124C - Available\n"
     ]
    }
   ],
   "source": [
    "for ev in events:\n",
    "    print(ev)\n"
   ]
  },
  {
   "cell_type": "code",
   "execution_count": 10,
   "metadata": {},
   "outputs": [],
   "source": [
    "# quit driver, if running\n",
    "driver.quit()\n"
   ]
  },
  {
   "cell_type": "markdown",
   "metadata": {},
   "source": [
    "### Using requests-html\n",
    "This is less consistent than selenium, but I'm leaving it as a secondary option"
   ]
  },
  {
   "cell_type": "code",
   "execution_count": 8,
   "metadata": {},
   "outputs": [],
   "source": [
    "# import\n",
    "from requests_html import AsyncHTMLSession\n"
   ]
  },
  {
   "cell_type": "code",
   "execution_count": 27,
   "metadata": {},
   "outputs": [],
   "source": [
    "# open session, navigate to page, and render JS\n",
    "session = AsyncHTMLSession()\n",
    "r = await session.get(url)\n",
    "await r.html.arender()\n"
   ]
  },
  {
   "cell_type": "code",
   "execution_count": 28,
   "metadata": {},
   "outputs": [
    {
     "data": {
      "text/plain": [
       "169"
      ]
     },
     "execution_count": 28,
     "metadata": {},
     "output_type": "execute_result"
    }
   ],
   "source": [
    "# extract data\n",
    "events = [ev.attrs[\"title\"] for ev in r.html.find(\".fc-event-today\")]\n",
    "len(events)\n"
   ]
  },
  {
   "cell_type": "code",
   "execution_count": 14,
   "metadata": {},
   "outputs": [
    {
     "name": "stdout",
     "output_type": "stream",
     "text": [
      "5:30pm Sunday, April 2, 2023 - 040A - Unavailable/Padding\n",
      "6:00pm Sunday, April 2, 2023 - 040A - Unavailable/Padding\n",
      "6:30pm Sunday, April 2, 2023 - 040A - Available\n",
      "7:00pm Sunday, April 2, 2023 - 040A - Unavailable/Padding\n",
      "7:30pm Sunday, April 2, 2023 - 040A - Unavailable/Padding\n",
      "8:00pm Sunday, April 2, 2023 - 040A - Unavailable/Padding\n",
      "8:30pm Sunday, April 2, 2023 - 040A - Unavailable/Padding\n",
      "9:00pm Sunday, April 2, 2023 - 040A - Unavailable/Padding\n",
      "9:30pm Sunday, April 2, 2023 - 040A - Unavailable/Padding\n",
      "10:00pm Sunday, April 2, 2023 - 040A - Unavailable/Padding\n",
      "10:30pm Sunday, April 2, 2023 - 040A - Unavailable/Padding\n",
      "11:00pm Sunday, April 2, 2023 - 040A - Available\n",
      "11:30pm Sunday, April 2, 2023 - 040A - Available\n",
      "5:30pm Sunday, April 2, 2023 - 040B - Unavailable/Padding\n",
      "6:00pm Sunday, April 2, 2023 - 040B - Unavailable/Padding\n",
      "6:30pm Sunday, April 2, 2023 - 040B - Unavailable/Padding\n",
      "7:00pm Sunday, April 2, 2023 - 040B - Unavailable/Padding\n",
      "7:30pm Sunday, April 2, 2023 - 040B - Unavailable/Padding\n",
      "8:00pm Sunday, April 2, 2023 - 040B - Unavailable/Padding\n",
      "8:30pm Sunday, April 2, 2023 - 040B - Unavailable/Padding\n",
      "9:00pm Sunday, April 2, 2023 - 040B - Unavailable/Padding\n",
      "9:30pm Sunday, April 2, 2023 - 040B - Unavailable/Padding\n",
      "10:00pm Sunday, April 2, 2023 - 040B - Available\n",
      "10:30pm Sunday, April 2, 2023 - 040B - Available\n",
      "11:00pm Sunday, April 2, 2023 - 040B - Available\n",
      "11:30pm Sunday, April 2, 2023 - 040B - Available\n",
      "5:30pm Sunday, April 2, 2023 - 040C - Unavailable/Padding\n",
      "6:00pm Sunday, April 2, 2023 - 040C - Unavailable/Padding\n",
      "6:30pm Sunday, April 2, 2023 - 040C - Unavailable/Padding\n",
      "7:00pm Sunday, April 2, 2023 - 040C - Available\n",
      "7:30pm Sunday, April 2, 2023 - 040C - Available\n",
      "8:00pm Sunday, April 2, 2023 - 040C - Available\n",
      "8:30pm Sunday, April 2, 2023 - 040C - Available\n",
      "9:00pm Sunday, April 2, 2023 - 040C - Unavailable/Padding\n",
      "9:30pm Sunday, April 2, 2023 - 040C - Unavailable/Padding\n",
      "10:00pm Sunday, April 2, 2023 - 040C - Unavailable/Padding\n",
      "10:30pm Sunday, April 2, 2023 - 040C - Unavailable/Padding\n",
      "11:00pm Sunday, April 2, 2023 - 040C - Available\n",
      "11:30pm Sunday, April 2, 2023 - 040C - Available\n",
      "5:30pm Sunday, April 2, 2023 - 405 - Unavailable/Padding\n",
      "6:00pm Sunday, April 2, 2023 - 405 - Available\n",
      "6:30pm Sunday, April 2, 2023 - 405 - Unavailable/Padding\n",
      "7:00pm Sunday, April 2, 2023 - 405 - Unavailable/Padding\n",
      "7:30pm Sunday, April 2, 2023 - 405 - Unavailable/Padding\n",
      "8:00pm Sunday, April 2, 2023 - 405 - Unavailable/Padding\n",
      "8:30pm Sunday, April 2, 2023 - 405 - Unavailable/Padding\n",
      "9:00pm Sunday, April 2, 2023 - 405 - Unavailable/Padding\n",
      "9:30pm Sunday, April 2, 2023 - 405 - Unavailable/Padding\n",
      "10:00pm Sunday, April 2, 2023 - 405 - Unavailable/Padding\n",
      "10:30pm Sunday, April 2, 2023 - 405 - Unavailable/Padding\n",
      "11:00pm Sunday, April 2, 2023 - 405 - Unavailable/Padding\n",
      "11:30pm Sunday, April 2, 2023 - 405 - Available\n",
      "5:30pm Sunday, April 2, 2023 - 407 - Unavailable/Padding\n",
      "6:00pm Sunday, April 2, 2023 - 407 - Unavailable/Padding\n",
      "6:30pm Sunday, April 2, 2023 - 407 - Unavailable/Padding\n",
      "7:00pm Sunday, April 2, 2023 - 407 - Unavailable/Padding\n",
      "7:30pm Sunday, April 2, 2023 - 407 - Unavailable/Padding\n",
      "8:00pm Sunday, April 2, 2023 - 407 - Unavailable/Padding\n",
      "8:30pm Sunday, April 2, 2023 - 407 - Unavailable/Padding\n",
      "9:00pm Sunday, April 2, 2023 - 407 - Unavailable/Padding\n",
      "9:30pm Sunday, April 2, 2023 - 407 - Unavailable/Padding\n",
      "10:00pm Sunday, April 2, 2023 - 407 - Available\n",
      "10:30pm Sunday, April 2, 2023 - 407 - Available\n",
      "11:00pm Sunday, April 2, 2023 - 407 - Available\n",
      "11:30pm Sunday, April 2, 2023 - 407 - Available\n",
      "5:30pm Sunday, April 2, 2023 - 408 collaboration - Unavailable/Padding\n",
      "6:00pm Sunday, April 2, 2023 - 408 collaboration - Unavailable/Padding\n",
      "6:30pm Sunday, April 2, 2023 - 408 collaboration - Unavailable/Padding\n",
      "7:00pm Sunday, April 2, 2023 - 408 collaboration - Unavailable/Padding\n",
      "7:30pm Sunday, April 2, 2023 - 408 collaboration - Unavailable/Padding\n",
      "8:00pm Sunday, April 2, 2023 - 408 collaboration - Unavailable/Padding\n",
      "8:30pm Sunday, April 2, 2023 - 408 collaboration - Unavailable/Padding\n",
      "9:00pm Sunday, April 2, 2023 - 408 collaboration - Available\n",
      "9:30pm Sunday, April 2, 2023 - 408 collaboration - Available\n",
      "10:00pm Sunday, April 2, 2023 - 408 collaboration - Available\n",
      "10:30pm Sunday, April 2, 2023 - 408 collaboration - Available\n",
      "11:00pm Sunday, April 2, 2023 - 408 collaboration - Available\n",
      "11:30pm Sunday, April 2, 2023 - 408 collaboration - Available\n",
      "5:30pm Sunday, April 2, 2023 - 409 - Unavailable/Padding\n",
      "6:00pm Sunday, April 2, 2023 - 409 - Unavailable/Padding\n",
      "6:30pm Sunday, April 2, 2023 - 409 - Unavailable/Padding\n",
      "7:00pm Sunday, April 2, 2023 - 409 - Unavailable/Padding\n",
      "7:30pm Sunday, April 2, 2023 - 409 - Unavailable/Padding\n",
      "8:00pm Sunday, April 2, 2023 - 409 - Available\n",
      "8:30pm Sunday, April 2, 2023 - 409 - Available\n",
      "9:00pm Sunday, April 2, 2023 - 409 - Available\n",
      "9:30pm Sunday, April 2, 2023 - 409 - Unavailable/Padding\n",
      "10:00pm Sunday, April 2, 2023 - 409 - Unavailable/Padding\n",
      "10:30pm Sunday, April 2, 2023 - 409 - Unavailable/Padding\n",
      "11:00pm Sunday, April 2, 2023 - 409 - Unavailable/Padding\n",
      "11:30pm Sunday, April 2, 2023 - 409 - Available\n",
      "5:30pm Sunday, April 2, 2023 - 410 collaboration - Unavailable/Padding\n",
      "6:00pm Sunday, April 2, 2023 - 410 collaboration - Unavailable/Padding\n",
      "6:30pm Sunday, April 2, 2023 - 410 collaboration - Unavailable/Padding\n",
      "7:00pm Sunday, April 2, 2023 - 410 collaboration - Available\n",
      "7:30pm Sunday, April 2, 2023 - 410 collaboration - Available\n",
      "8:00pm Sunday, April 2, 2023 - 410 collaboration - Available\n",
      "8:30pm Sunday, April 2, 2023 - 410 collaboration - Available\n",
      "9:00pm Sunday, April 2, 2023 - 410 collaboration - Available\n",
      "9:30pm Sunday, April 2, 2023 - 410 collaboration - Available\n",
      "10:00pm Sunday, April 2, 2023 - 410 collaboration - Available\n",
      "10:30pm Sunday, April 2, 2023 - 410 collaboration - Available\n",
      "11:00pm Sunday, April 2, 2023 - 410 collaboration - Available\n",
      "11:30pm Sunday, April 2, 2023 - 410 collaboration - Available\n",
      "5:30pm Sunday, April 2, 2023 - 411 - Unavailable/Padding\n",
      "6:00pm Sunday, April 2, 2023 - 411 - Available\n",
      "6:30pm Sunday, April 2, 2023 - 411 - Available\n",
      "7:00pm Sunday, April 2, 2023 - 411 - Unavailable/Padding\n",
      "7:30pm Sunday, April 2, 2023 - 411 - Unavailable/Padding\n",
      "8:00pm Sunday, April 2, 2023 - 411 - Unavailable/Padding\n",
      "8:30pm Sunday, April 2, 2023 - 411 - Unavailable/Padding\n",
      "9:00pm Sunday, April 2, 2023 - 411 - Unavailable/Padding\n",
      "9:30pm Sunday, April 2, 2023 - 411 - Unavailable/Padding\n",
      "10:00pm Sunday, April 2, 2023 - 411 - Available\n",
      "10:30pm Sunday, April 2, 2023 - 411 - Available\n",
      "11:00pm Sunday, April 2, 2023 - 411 - Available\n",
      "11:30pm Sunday, April 2, 2023 - 411 - Available\n",
      "5:30pm Sunday, April 2, 2023 - 412 - Unavailable/Padding\n",
      "6:00pm Sunday, April 2, 2023 - 412 - Unavailable/Padding\n",
      "6:30pm Sunday, April 2, 2023 - 412 - Available\n",
      "7:00pm Sunday, April 2, 2023 - 412 - Unavailable/Padding\n",
      "7:30pm Sunday, April 2, 2023 - 412 - Unavailable/Padding\n",
      "8:00pm Sunday, April 2, 2023 - 412 - Unavailable/Padding\n",
      "8:30pm Sunday, April 2, 2023 - 412 - Unavailable/Padding\n",
      "9:00pm Sunday, April 2, 2023 - 412 - Unavailable/Padding\n",
      "9:30pm Sunday, April 2, 2023 - 412 - Unavailable/Padding\n",
      "10:00pm Sunday, April 2, 2023 - 412 - Unavailable/Padding\n",
      "10:30pm Sunday, April 2, 2023 - 412 - Unavailable/Padding\n",
      "11:00pm Sunday, April 2, 2023 - 412 - Available\n",
      "11:30pm Sunday, April 2, 2023 - 412 - Available\n",
      "5:30pm Sunday, April 2, 2023 - 413 - Unavailable/Padding\n",
      "6:00pm Sunday, April 2, 2023 - 413 - Unavailable/Padding\n",
      "6:30pm Sunday, April 2, 2023 - 413 - Unavailable/Padding\n",
      "7:00pm Sunday, April 2, 2023 - 413 - Unavailable/Padding\n",
      "7:30pm Sunday, April 2, 2023 - 413 - Unavailable/Padding\n",
      "8:00pm Sunday, April 2, 2023 - 413 - Unavailable/Padding\n",
      "8:30pm Sunday, April 2, 2023 - 413 - Unavailable/Padding\n",
      "9:00pm Sunday, April 2, 2023 - 413 - Available\n",
      "9:30pm Sunday, April 2, 2023 - 413 - Available\n",
      "10:00pm Sunday, April 2, 2023 - 413 - Available\n",
      "10:30pm Sunday, April 2, 2023 - 413 - Available\n",
      "11:00pm Sunday, April 2, 2023 - 413 - Available\n",
      "11:30pm Sunday, April 2, 2023 - 413 - Available\n",
      "5:30pm Sunday, April 2, 2023 - 414 - Unavailable/Padding\n",
      "6:00pm Sunday, April 2, 2023 - 414 - Unavailable/Padding\n",
      "6:30pm Sunday, April 2, 2023 - 414 - Unavailable/Padding\n",
      "7:00pm Sunday, April 2, 2023 - 414 - Unavailable/Padding\n",
      "7:30pm Sunday, April 2, 2023 - 414 - Unavailable/Padding\n",
      "8:00pm Sunday, April 2, 2023 - 414 - Unavailable/Padding\n",
      "8:30pm Sunday, April 2, 2023 - 414 - Unavailable/Padding\n",
      "9:00pm Sunday, April 2, 2023 - 414 - Unavailable/Padding\n",
      "9:30pm Sunday, April 2, 2023 - 414 - Unavailable/Padding\n",
      "10:00pm Sunday, April 2, 2023 - 414 - Unavailable/Padding\n",
      "10:30pm Sunday, April 2, 2023 - 414 - Unavailable/Padding\n",
      "11:00pm Sunday, April 2, 2023 - 414 - Unavailable/Padding\n",
      "11:30pm Sunday, April 2, 2023 - 414 - Unavailable/Padding\n",
      "5:30pm Sunday, April 2, 2023 - 415 - Unavailable/Padding\n",
      "6:00pm Sunday, April 2, 2023 - 415 - Unavailable/Padding\n",
      "6:30pm Sunday, April 2, 2023 - 415 - Unavailable/Padding\n",
      "7:00pm Sunday, April 2, 2023 - 415 - Available\n",
      "7:30pm Sunday, April 2, 2023 - 415 - Available\n",
      "8:00pm Sunday, April 2, 2023 - 415 - Unavailable/Padding\n",
      "8:30pm Sunday, April 2, 2023 - 415 - Unavailable/Padding\n",
      "9:00pm Sunday, April 2, 2023 - 415 - Unavailable/Padding\n",
      "9:30pm Sunday, April 2, 2023 - 415 - Unavailable/Padding\n",
      "10:00pm Sunday, April 2, 2023 - 415 - Unavailable/Padding\n",
      "10:30pm Sunday, April 2, 2023 - 415 - Unavailable/Padding\n",
      "11:00pm Sunday, April 2, 2023 - 415 - Unavailable/Padding\n",
      "11:30pm Sunday, April 2, 2023 - 415 - Unavailable/Padding\n"
     ]
    }
   ],
   "source": [
    "for ev in events:\n",
    "    print(ev)\n"
   ]
  },
  {
   "cell_type": "markdown",
   "metadata": {},
   "source": []
  }
 ],
 "metadata": {
  "kernelspec": {
   "display_name": "Python 3 (ipykernel)",
   "language": "python",
   "name": "python3"
  },
  "language_info": {
   "codemirror_mode": {
    "name": "ipython",
    "version": 3
   },
   "file_extension": ".py",
   "mimetype": "text/x-python",
   "name": "python",
   "nbconvert_exporter": "python",
   "pygments_lexer": "ipython3",
   "version": "3.9.13"
  }
 },
 "nbformat": 4,
 "nbformat_minor": 1
}
